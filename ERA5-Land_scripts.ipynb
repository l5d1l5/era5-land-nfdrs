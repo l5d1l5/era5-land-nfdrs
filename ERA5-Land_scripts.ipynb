{
 "cells": [
  {
   "cell_type": "code",
   "execution_count": null,
   "metadata": {},
   "outputs": [],
   "source": [
    "########\n",
    "import time\n",
    "import numpy as np\n",
    "#import seaborn as sns\n",
    "import pandas as pd\n",
    "from socket import gethostname\n",
    "from dask_jobqueue import SLURMCluster\n",
    "from dask.distributed import Client,progress\n",
    "\n",
    "cluster = SLURMCluster(processes=1, cores=1, memory=\"4GB\",queue=\"cel_lab_cpu\",walltime=\"120000\",\n",
    "                       job_extra=[\"-o logs/slurm-%j.out\"],\n",
    "                       env_extra=['export LANG=\"en_US.utf8\"','export LANGUAGE=\"en_US.utf8\"','export LC_ALL=\"en_US.utf8\"'])\n",
    "cluster.scale(4)  # this may take a few seconds to launch\n"
   ]
  },
  {
   "cell_type": "code",
   "execution_count": null,
   "metadata": {},
   "outputs": [],
   "source": [
    "from dask.distributed import Client, TimeoutError\n",
    "\n",
    "try:\n",
    "    client = Client('tcp://localhost:8787', timeout='2s')\n",
    "except TimeoutError:\n",
    "    pass"
   ]
  },
  {
   "cell_type": "code",
   "execution_count": 5,
   "metadata": {},
   "outputs": [
    {
     "name": "stdout",
     "output_type": "stream",
     "text": [
      "=========================================================\n",
      "Downloading 2015-01\n"
     ]
    },
    {
     "name": "stderr",
     "output_type": "stream",
     "text": [
      "2021-04-09 17:29:27,061 INFO Welcome to the CDS\n",
      "2021-04-09 17:29:27,062 INFO Sending request to https://cds.climate.copernicus.eu/api/v2/resources/reanalysis-era5-land\n",
      "2021-04-09 17:29:27,284 INFO Request is queued\n",
      "2021-04-09 17:29:30,102 INFO Request is running\n",
      "2021-04-09 17:31:22,303 INFO Request is completed\n",
      "2021-04-09 17:31:22,304 INFO Downloading https://download-0003.copernicus-climate.eu/cache-compute-0003/cache/data8/adaptor.mars.internal-1618010968.8793333-16554-9-b338759a-75f3-46a8-a2c1-6b96f6abb6f2.grib to //mnt/DataDrive2/data/mjolly/era5-land/era5-land-surface_solar_radiation_downwards-2015-01.grib (5.2G)\n",
      "2021-04-09 17:55:40,751 INFO Download rate 3.6M/s      \n",
      "2021-04-09 17:55:41,545 INFO Welcome to the CDS\n",
      "2021-04-09 17:55:41,545 INFO Sending request to https://cds.climate.copernicus.eu/api/v2/resources/reanalysis-era5-land\n"
     ]
    },
    {
     "name": "stdout",
     "output_type": "stream",
     "text": [
      "=========================================================\n",
      "Downloading 2015-02\n"
     ]
    },
    {
     "name": "stderr",
     "output_type": "stream",
     "text": [
      "2021-04-09 17:55:41,783 INFO Request is queued\n",
      "2021-04-09 17:55:42,940 INFO Request is running\n",
      "2021-04-09 17:57:36,778 INFO Request is completed\n",
      "2021-04-09 17:57:36,779 INFO Downloading https://download-0015.copernicus-climate.eu/cache-compute-0015/cache/data7/adaptor.mars.internal-1618012542.0925632-25248-1-aa01f71a-6792-4789-8f0d-38bc6f2f8393.grib to //mnt/DataDrive2/data/mjolly/era5-land/era5-land-surface_solar_radiation_downwards-2015-02.grib (4.7G)\n",
      "2021-04-09 18:15:23,779 INFO Download rate 4.5M/s      \n",
      "2021-04-09 18:15:24,610 INFO Welcome to the CDS\n",
      "2021-04-09 18:15:24,611 INFO Sending request to https://cds.climate.copernicus.eu/api/v2/resources/reanalysis-era5-land\n"
     ]
    },
    {
     "name": "stdout",
     "output_type": "stream",
     "text": [
      "=========================================================\n",
      "Downloading 2015-03\n"
     ]
    },
    {
     "name": "stderr",
     "output_type": "stream",
     "text": [
      "2021-04-09 18:15:25,884 INFO Request is queued\n",
      "2021-04-09 18:15:27,046 INFO Request is running\n",
      "2021-04-09 18:17:20,914 INFO Request is completed\n",
      "2021-04-09 18:17:20,915 INFO Downloading https://download-0000.copernicus-climate.eu/cache-compute-0000/cache/data9/adaptor.mars.internal-1618013726.4934726-15427-30-4305af08-37a5-489e-a906-bcbf8cec69fe.grib to //mnt/DataDrive2/data/mjolly/era5-land/era5-land-surface_solar_radiation_downwards-2015-03.grib (5.2G)\n",
      "2021-04-09 18:36:51,697 INFO Download rate 4.5M/s      \n",
      "2021-04-09 18:36:52,474 INFO Welcome to the CDS\n",
      "2021-04-09 18:36:52,475 INFO Sending request to https://cds.climate.copernicus.eu/api/v2/resources/reanalysis-era5-land\n"
     ]
    },
    {
     "name": "stdout",
     "output_type": "stream",
     "text": [
      "=========================================================\n",
      "Downloading 2015-04\n"
     ]
    },
    {
     "name": "stderr",
     "output_type": "stream",
     "text": [
      "2021-04-09 18:36:52,708 INFO Request is queued\n",
      "2021-04-09 18:36:53,865 INFO Request is running\n",
      "2021-04-09 18:38:47,719 INFO Request is completed\n",
      "2021-04-09 18:38:47,720 INFO Downloading https://download-0001.copernicus-climate.eu/cache-compute-0001/cache/data4/adaptor.mars.internal-1618015013.0522156-17765-34-537f70bf-1932-4f07-bf34-56bee58a8308.grib to //mnt/DataDrive2/data/mjolly/era5-land/era5-land-surface_solar_radiation_downwards-2015-04.grib (5G)\n",
      "2021-04-09 18:56:26,718 INFO Download rate 4.8M/s      \n",
      "2021-04-09 18:56:27,520 INFO Welcome to the CDS\n",
      "2021-04-09 18:56:27,520 INFO Sending request to https://cds.climate.copernicus.eu/api/v2/resources/reanalysis-era5-land\n"
     ]
    },
    {
     "name": "stdout",
     "output_type": "stream",
     "text": [
      "=========================================================\n",
      "Downloading 2015-05\n"
     ]
    },
    {
     "name": "stderr",
     "output_type": "stream",
     "text": [
      "2021-04-09 18:56:27,714 INFO Request is queued\n",
      "2021-04-09 18:56:30,530 INFO Request is running\n",
      "2021-04-09 18:58:22,650 INFO Request is completed\n",
      "2021-04-09 18:58:22,651 INFO Downloading https://download-0005.copernicus-climate.eu/cache-compute-0005/cache/data9/adaptor.mars.internal-1618016189.2124302-25793-14-126d0612-d98c-4865-a386-6f14ef9e3500.grib to //mnt/DataDrive2/data/mjolly/era5-land/era5-land-surface_solar_radiation_downwards-2015-05.grib (5.2G)\n",
      "2021-04-09 19:15:15,975 INFO Download rate 5.2M/s      \n",
      "2021-04-09 19:15:16,781 INFO Welcome to the CDS\n",
      "2021-04-09 19:15:16,782 INFO Sending request to https://cds.climate.copernicus.eu/api/v2/resources/reanalysis-era5-land\n"
     ]
    },
    {
     "name": "stdout",
     "output_type": "stream",
     "text": [
      "=========================================================\n",
      "Downloading 2015-06\n"
     ]
    },
    {
     "name": "stderr",
     "output_type": "stream",
     "text": [
      "2021-04-09 19:15:17,217 INFO Request is queued\n",
      "2021-04-09 19:15:18,376 INFO Request is running\n",
      "2021-04-09 19:17:12,205 INFO Request is completed\n",
      "2021-04-09 19:17:12,206 INFO Downloading https://download-0015.copernicus-climate.eu/cache-compute-0015/cache/data0/adaptor.mars.internal-1618017317.532691-13671-25-0606d791-4e79-46a6-ab17-fe1c928dcf33.grib to //mnt/DataDrive2/data/mjolly/era5-land/era5-land-surface_solar_radiation_downwards-2015-06.grib (5G)\n",
      "2021-04-09 19:33:41,204 INFO Download rate 5.2M/s      \n",
      "2021-04-09 19:33:41,989 INFO Welcome to the CDS\n",
      "2021-04-09 19:33:41,990 INFO Sending request to https://cds.climate.copernicus.eu/api/v2/resources/reanalysis-era5-land\n"
     ]
    },
    {
     "name": "stdout",
     "output_type": "stream",
     "text": [
      "=========================================================\n",
      "Downloading 2015-07\n"
     ]
    },
    {
     "name": "stderr",
     "output_type": "stream",
     "text": [
      "2021-04-09 19:33:42,221 INFO Request is queued\n",
      "2021-04-09 19:34:03,969 INFO Request is running\n",
      "2021-04-09 19:35:37,189 INFO Request is completed\n",
      "2021-04-09 19:35:37,190 INFO Downloading https://download-0002.copernicus-climate.eu/cache-compute-0002/cache/data5/adaptor.mars.internal-1618018439.6919355-11587-28-d41ec448-22dd-4256-ace9-4c537f4a84ab.grib to //mnt/DataDrive2/data/mjolly/era5-land/era5-land-surface_solar_radiation_downwards-2015-07.grib (5.2G)\n",
      "2021-04-09 19:54:04,474 INFO Download rate 4.8M/s      \n",
      "2021-04-09 19:54:05,254 INFO Welcome to the CDS\n",
      "2021-04-09 19:54:05,255 INFO Sending request to https://cds.climate.copernicus.eu/api/v2/resources/reanalysis-era5-land\n"
     ]
    },
    {
     "name": "stdout",
     "output_type": "stream",
     "text": [
      "=========================================================\n",
      "Downloading 2015-08\n"
     ]
    },
    {
     "name": "stderr",
     "output_type": "stream",
     "text": [
      "2021-04-09 19:54:05,488 INFO Request is queued\n",
      "2021-04-09 19:54:06,646 INFO Request is running\n",
      "2021-04-09 19:56:00,420 INFO Request is completed\n",
      "2021-04-09 19:56:00,421 INFO Downloading https://download-0004.copernicus-climate.eu/cache-compute-0004/cache/data1/adaptor.mars.internal-1618019646.2771876-16681-21-275ce6c9-e616-4703-9b0b-f76ce3ad4421.grib to //mnt/DataDrive2/data/mjolly/era5-land/era5-land-surface_solar_radiation_downwards-2015-08.grib (5.2G)\n",
      "2021-04-09 20:21:15,146 INFO Download rate 3.5M/s      \n",
      "2021-04-09 20:21:15,971 INFO Welcome to the CDS\n",
      "2021-04-09 20:21:15,972 INFO Sending request to https://cds.climate.copernicus.eu/api/v2/resources/reanalysis-era5-land\n"
     ]
    },
    {
     "name": "stdout",
     "output_type": "stream",
     "text": [
      "=========================================================\n",
      "Downloading 2015-09\n"
     ]
    },
    {
     "name": "stderr",
     "output_type": "stream",
     "text": [
      "2021-04-09 20:21:16,262 INFO Request is queued\n",
      "2021-04-09 20:21:21,486 INFO Request is running\n",
      "2021-04-09 20:23:11,480 INFO Request is completed\n",
      "2021-04-09 20:23:11,481 INFO Downloading https://download-0004.copernicus-climate.eu/cache-compute-0004/cache/data6/adaptor.mars.internal-1618021279.1550398-8739-29-4da37d23-9da9-41c9-aabf-c3f473fc66c2.grib to //mnt/DataDrive2/data/mjolly/era5-land/era5-land-surface_solar_radiation_downwards-2015-09.grib (5G)\n",
      "2021-04-09 20:43:18,811 INFO Download rate 4.2M/s      \n",
      "2021-04-09 20:43:19,623 INFO Welcome to the CDS\n",
      "2021-04-09 20:43:19,624 INFO Sending request to https://cds.climate.copernicus.eu/api/v2/resources/reanalysis-era5-land\n"
     ]
    },
    {
     "name": "stdout",
     "output_type": "stream",
     "text": [
      "=========================================================\n",
      "Downloading 2015-10\n"
     ]
    },
    {
     "name": "stderr",
     "output_type": "stream",
     "text": [
      "2021-04-09 20:43:19,866 INFO Request is queued\n",
      "2021-04-09 20:43:21,024 INFO Request is running\n",
      "2021-04-09 20:45:14,889 INFO Request is completed\n",
      "2021-04-09 20:45:14,890 INFO Downloading https://download-0015.copernicus-climate.eu/cache-compute-0015/cache/data3/adaptor.mars.internal-1618022600.9026632-2199-19-2064c34c-f606-494f-b862-5a9995d810fd.grib to //mnt/DataDrive2/data/mjolly/era5-land/era5-land-surface_solar_radiation_downwards-2015-10.grib (5.2G)\n",
      "2021-04-09 21:11:16,857 INFO Download rate 3.4M/s      \n",
      "2021-04-09 21:11:17,649 INFO Welcome to the CDS\n",
      "2021-04-09 21:11:17,649 INFO Sending request to https://cds.climate.copernicus.eu/api/v2/resources/reanalysis-era5-land\n"
     ]
    },
    {
     "name": "stdout",
     "output_type": "stream",
     "text": [
      "=========================================================\n",
      "Downloading 2015-11\n"
     ]
    },
    {
     "name": "stderr",
     "output_type": "stream",
     "text": [
      "2021-04-09 21:11:17,853 INFO Request is queued\n",
      "2021-04-09 21:11:19,010 INFO Request is running\n",
      "2021-04-09 21:13:12,851 INFO Request is completed\n",
      "2021-04-09 21:13:12,852 INFO Downloading https://download-0003.copernicus-climate.eu/cache-compute-0003/cache/data3/adaptor.mars.internal-1618024278.3822498-11538-20-62a99e4c-50dc-497a-a695-ceb68e308773.grib to //mnt/DataDrive2/data/mjolly/era5-land/era5-land-surface_solar_radiation_downwards-2015-11.grib (5G)\n",
      "2021-04-09 21:32:02,218 INFO Download rate 4.5M/s      \n",
      "2021-04-09 21:32:03,066 INFO Welcome to the CDS\n",
      "2021-04-09 21:32:03,067 INFO Sending request to https://cds.climate.copernicus.eu/api/v2/resources/reanalysis-era5-land\n"
     ]
    },
    {
     "name": "stdout",
     "output_type": "stream",
     "text": [
      "=========================================================\n",
      "Downloading 2015-12\n"
     ]
    },
    {
     "name": "stderr",
     "output_type": "stream",
     "text": [
      "2021-04-09 21:32:03,290 INFO Request is queued\n",
      "2021-04-09 21:32:12,055 INFO Request is running\n",
      "2021-04-09 21:33:58,315 INFO Request is completed\n",
      "2021-04-09 21:33:58,316 INFO Downloading https://download-0010.copernicus-climate.eu/cache-compute-0010/cache/data9/adaptor.mars.internal-1618025530.9893665-26254-12-637f385c-c77d-4b8c-a576-a6856862dbec.grib to //mnt/DataDrive2/data/mjolly/era5-land/era5-land-surface_solar_radiation_downwards-2015-12.grib (5.2G)\n",
      "2021-04-09 21:53:05,411 INFO Download rate 4.6M/s      \n",
      "2021-04-09 21:53:06,216 INFO Welcome to the CDS\n",
      "2021-04-09 21:53:06,217 INFO Sending request to https://cds.climate.copernicus.eu/api/v2/resources/reanalysis-era5-land\n"
     ]
    },
    {
     "name": "stdout",
     "output_type": "stream",
     "text": [
      "=========================================================\n",
      "Downloading 2016-01\n"
     ]
    },
    {
     "name": "stderr",
     "output_type": "stream",
     "text": [
      "2021-04-09 21:53:06,407 INFO Request is queued\n",
      "2021-04-09 21:53:07,567 INFO Request is running\n",
      "2021-04-09 21:55:01,442 INFO Request is completed\n",
      "2021-04-09 21:55:01,443 INFO Downloading https://download-0000.copernicus-climate.eu/cache-compute-0000/cache/data2/adaptor.mars.internal-1618026786.6856742-2116-12-071715b6-ecd3-4383-b012-2ae0a2e0085f.grib to //mnt/DataDrive2/data/mjolly/era5-land/era5-land-surface_solar_radiation_downwards-2016-01.grib (5.2G)\n",
      "2021-04-09 22:20:10,401 INFO Download rate 3.5M/s      \n",
      "2021-04-09 22:20:11,197 INFO Welcome to the CDS\n",
      "2021-04-09 22:20:11,197 INFO Sending request to https://cds.climate.copernicus.eu/api/v2/resources/reanalysis-era5-land\n"
     ]
    },
    {
     "name": "stdout",
     "output_type": "stream",
     "text": [
      "=========================================================\n",
      "Downloading 2016-02\n"
     ]
    },
    {
     "name": "stderr",
     "output_type": "stream",
     "text": [
      "2021-04-09 22:20:11,402 INFO Request is queued\n",
      "2021-04-09 22:20:12,562 INFO Request is running\n",
      "2021-04-09 22:22:06,445 INFO Request is completed\n",
      "2021-04-09 22:22:06,448 INFO Downloading https://download-0006.copernicus-climate.eu/cache-compute-0006/cache/data8/adaptor.mars.internal-1618028411.4965782-26322-25-b41740da-c84a-455f-af0a-669b3ed59f35.grib to //mnt/DataDrive2/data/mjolly/era5-land/era5-land-surface_solar_radiation_downwards-2016-02.grib (4.8G)\n",
      "2021-04-09 23:15:20,833 INFO Download rate 1.5M/s      \n",
      "2021-04-09 23:15:21,618 INFO Welcome to the CDS\n",
      "2021-04-09 23:15:21,619 INFO Sending request to https://cds.climate.copernicus.eu/api/v2/resources/reanalysis-era5-land\n"
     ]
    },
    {
     "name": "stdout",
     "output_type": "stream",
     "text": [
      "=========================================================\n",
      "Downloading 2016-03\n"
     ]
    },
    {
     "name": "stderr",
     "output_type": "stream",
     "text": [
      "2021-04-09 23:15:21,865 INFO Request is queued\n",
      "2021-04-09 23:15:23,024 INFO Request is running\n",
      "2021-04-09 23:17:16,867 INFO Request is completed\n",
      "2021-04-09 23:17:16,868 INFO Downloading https://download-0010.copernicus-climate.eu/cache-compute-0010/cache/data2/adaptor.mars.internal-1618031722.253441-30013-7-77d7bb7a-0db2-4b7a-8f98-65bac741f321.grib to //mnt/DataDrive2/data/mjolly/era5-land/era5-land-surface_solar_radiation_downwards-2016-03.grib (5.2G)\n",
      "2021-04-10 00:29:20,555 INFO Download rate 1.2M/s      \n",
      "2021-04-10 00:29:21,487 INFO Welcome to the CDS\n",
      "2021-04-10 00:29:21,498 INFO Sending request to https://cds.climate.copernicus.eu/api/v2/resources/reanalysis-era5-land\n"
     ]
    },
    {
     "name": "stdout",
     "output_type": "stream",
     "text": [
      "=========================================================\n",
      "Downloading 2016-04\n"
     ]
    },
    {
     "name": "stderr",
     "output_type": "stream",
     "text": [
      "2021-04-10 00:29:21,723 INFO Request is queued\n",
      "2021-04-10 00:29:24,562 INFO Request is running\n",
      "2021-04-10 00:31:16,778 INFO Request is completed\n",
      "2021-04-10 00:31:16,779 INFO Downloading https://download-0002.copernicus-climate.eu/cache-compute-0002/cache/data8/adaptor.mars.internal-1618036163.9175897-10243-28-8c24db65-a0c2-4e2b-8696-cc017400bd08.grib to //mnt/DataDrive2/data/mjolly/era5-land/era5-land-surface_solar_radiation_downwards-2016-04.grib (5G)\n",
      "2021-04-10 00:56:34,491 INFO Download rate 3.4M/s      \n",
      "2021-04-10 00:56:35,283 INFO Welcome to the CDS\n",
      "2021-04-10 00:56:35,284 INFO Sending request to https://cds.climate.copernicus.eu/api/v2/resources/reanalysis-era5-land\n"
     ]
    },
    {
     "name": "stdout",
     "output_type": "stream",
     "text": [
      "=========================================================\n",
      "Downloading 2016-05\n"
     ]
    },
    {
     "name": "stderr",
     "output_type": "stream",
     "text": [
      "2021-04-10 00:56:36,639 INFO Request is queued\n",
      "2021-04-10 00:56:39,458 INFO Request is running\n",
      "2021-04-10 00:58:31,626 INFO Request is completed\n",
      "2021-04-10 00:58:31,632 INFO Downloading https://download-0015.copernicus-climate.eu/cache-compute-0015/cache/data7/adaptor.mars.internal-1618037798.1620529-19971-26-3171635b-3c04-48ee-a436-328fa4504563.grib to //mnt/DataDrive2/data/mjolly/era5-land/era5-land-surface_solar_radiation_downwards-2016-05.grib (5.2G)\n",
      "2021-04-10 01:29:02,210 INFO Download rate 2.9M/s      \n",
      "2021-04-10 01:29:03,000 INFO Welcome to the CDS\n",
      "2021-04-10 01:29:03,001 INFO Sending request to https://cds.climate.copernicus.eu/api/v2/resources/reanalysis-era5-land\n"
     ]
    },
    {
     "name": "stdout",
     "output_type": "stream",
     "text": [
      "=========================================================\n",
      "Downloading 2016-06\n"
     ]
    },
    {
     "name": "stderr",
     "output_type": "stream",
     "text": [
      "2021-04-10 01:29:03,248 INFO Request is queued\n",
      "2021-04-10 01:29:04,408 INFO Request is running\n",
      "2021-04-10 01:30:58,258 INFO Request is completed\n",
      "2021-04-10 01:30:58,259 INFO Downloading https://download-0002.copernicus-climate.eu/cache-compute-0002/cache/data1/adaptor.mars.internal-1618039743.8067033-24563-11-d4028d97-8379-478d-bdc6-b51c979ceae0.grib to //mnt/DataDrive2/data/mjolly/era5-land/era5-land-surface_solar_radiation_downwards-2016-06.grib (5G)\n",
      "2021-04-10 01:52:29,385 INFO Download rate 4M/s        \n",
      "2021-04-10 01:52:30,165 INFO Welcome to the CDS\n",
      "2021-04-10 01:52:30,166 INFO Sending request to https://cds.climate.copernicus.eu/api/v2/resources/reanalysis-era5-land\n"
     ]
    },
    {
     "name": "stdout",
     "output_type": "stream",
     "text": [
      "=========================================================\n",
      "Downloading 2016-07\n"
     ]
    },
    {
     "name": "stderr",
     "output_type": "stream",
     "text": [
      "2021-04-10 01:52:30,369 INFO Request is queued\n",
      "2021-04-10 01:52:31,527 INFO Request is running\n",
      "2021-04-10 01:54:25,371 INFO Request is completed\n",
      "2021-04-10 01:54:25,372 INFO Downloading https://download-0004.copernicus-climate.eu/cache-compute-0004/cache/data0/adaptor.mars.internal-1618041150.5047112-28942-1-0e1fa765-12c9-43be-8947-27177aed86e2.grib to //mnt/DataDrive2/data/mjolly/era5-land/era5-land-surface_solar_radiation_downwards-2016-07.grib (5.2G)\n",
      "2021-04-10 02:11:37,248 INFO Download rate 5.1M/s      \n",
      "2021-04-10 02:11:37,995 INFO Welcome to the CDS\n",
      "2021-04-10 02:11:37,995 INFO Sending request to https://cds.climate.copernicus.eu/api/v2/resources/reanalysis-era5-land\n"
     ]
    },
    {
     "name": "stdout",
     "output_type": "stream",
     "text": [
      "=========================================================\n",
      "Downloading 2016-08\n"
     ]
    },
    {
     "name": "stderr",
     "output_type": "stream",
     "text": [
      "2021-04-10 02:11:38,201 INFO Request is queued\n",
      "2021-04-10 02:11:39,353 INFO Request is running\n",
      "2021-04-10 02:13:33,139 INFO Request is completed\n",
      "2021-04-10 02:13:33,140 INFO Downloading https://download-0008.copernicus-climate.eu/cache-compute-0008/cache/data1/adaptor.mars.internal-1618042299.109895-16784-23-761c580c-13de-4599-9611-8a57ffccd6da.grib to //mnt/DataDrive2/data/mjolly/era5-land/era5-land-surface_solar_radiation_downwards-2016-08.grib (5.2G)\n",
      "2021-04-10 02:30:58,114 INFO Download rate 5.1M/s      \n",
      "2021-04-10 02:30:58,870 INFO Welcome to the CDS\n",
      "2021-04-10 02:30:58,870 INFO Sending request to https://cds.climate.copernicus.eu/api/v2/resources/reanalysis-era5-land\n"
     ]
    },
    {
     "name": "stdout",
     "output_type": "stream",
     "text": [
      "=========================================================\n",
      "Downloading 2016-09\n"
     ]
    },
    {
     "name": "stderr",
     "output_type": "stream",
     "text": [
      "2021-04-10 02:30:59,059 INFO Request is queued\n",
      "2021-04-10 02:31:00,211 INFO Request is running\n",
      "2021-04-10 02:32:54,016 INFO Request is completed\n",
      "2021-04-10 02:32:54,017 INFO Downloading https://download-0006.copernicus-climate.eu/cache-compute-0006/cache/data8/adaptor.mars.internal-1618043459.7937949-593-14-5a0364be-16e1-4603-9717-81aed288f26c.grib to //mnt/DataDrive2/data/mjolly/era5-land/era5-land-surface_solar_radiation_downwards-2016-09.grib (5G)\n",
      "2021-04-10 02:47:45,928 INFO Download rate 5.7M/s      \n",
      "2021-04-10 02:47:46,697 INFO Welcome to the CDS\n",
      "2021-04-10 02:47:46,698 INFO Sending request to https://cds.climate.copernicus.eu/api/v2/resources/reanalysis-era5-land\n"
     ]
    },
    {
     "name": "stdout",
     "output_type": "stream",
     "text": [
      "=========================================================\n",
      "Downloading 2016-10\n"
     ]
    },
    {
     "name": "stderr",
     "output_type": "stream",
     "text": [
      "2021-04-10 02:47:46,906 INFO Request is queued\n",
      "2021-04-10 02:47:48,057 INFO Request is running\n",
      "2021-04-10 02:49:41,855 INFO Request is completed\n",
      "2021-04-10 02:49:41,856 INFO Downloading https://download-0015.copernicus-climate.eu/cache-compute-0015/cache/data7/adaptor.mars.internal-1618044467.2551284-4829-1-2fa7600d-639c-48a2-ba6c-7525c9aef421.grib to //mnt/DataDrive2/data/mjolly/era5-land/era5-land-surface_solar_radiation_downwards-2016-10.grib (5.2G)\n",
      "2021-04-10 03:05:12,551 INFO Download rate 5.7M/s      \n",
      "2021-04-10 03:05:13,314 INFO Welcome to the CDS\n",
      "2021-04-10 03:05:13,315 INFO Sending request to https://cds.climate.copernicus.eu/api/v2/resources/reanalysis-era5-land\n"
     ]
    },
    {
     "name": "stdout",
     "output_type": "stream",
     "text": [
      "=========================================================\n",
      "Downloading 2016-11\n"
     ]
    },
    {
     "name": "stderr",
     "output_type": "stream",
     "text": [
      "2021-04-10 03:05:13,505 INFO Request is queued\n",
      "2021-04-10 03:05:18,717 INFO Request is running\n",
      "2021-04-10 03:07:08,470 INFO Request is completed\n",
      "2021-04-10 03:07:08,471 INFO Downloading https://download-0001.copernicus-climate.eu/cache-compute-0001/cache/data0/adaptor.mars.internal-1618045518.3493035-30193-16-0a8a991b-0083-4a3a-ace5-652ddac3a72b.grib to //mnt/DataDrive2/data/mjolly/era5-land/era5-land-surface_solar_radiation_downwards-2016-11.grib (5G)\n",
      "2021-04-10 03:29:51,415 INFO Download rate 3.8M/s      \n",
      "2021-04-10 03:29:52,200 INFO Welcome to the CDS\n",
      "2021-04-10 03:29:52,200 INFO Sending request to https://cds.climate.copernicus.eu/api/v2/resources/reanalysis-era5-land\n"
     ]
    },
    {
     "name": "stdout",
     "output_type": "stream",
     "text": [
      "=========================================================\n",
      "Downloading 2016-12\n"
     ]
    },
    {
     "name": "stderr",
     "output_type": "stream",
     "text": [
      "2021-04-10 03:29:52,356 INFO Request is queued\n",
      "2021-04-10 03:29:57,563 INFO Request is running\n",
      "2021-04-10 03:31:47,305 INFO Request is completed\n",
      "2021-04-10 03:31:47,306 INFO Downloading https://download-0012.copernicus-climate.eu/cache-compute-0012/cache/data1/adaptor.mars.internal-1618046997.4062164-10075-8-66cc159b-3503-4867-b4f7-4cdd3ded02c5.grib to //mnt/DataDrive2/data/mjolly/era5-land/era5-land-surface_solar_radiation_downwards-2016-12.grib (5.2G)\n",
      "2021-04-10 03:52:56,982 INFO Download rate 4.2M/s      \n",
      "2021-04-10 03:52:57,742 INFO Welcome to the CDS\n",
      "2021-04-10 03:52:57,742 INFO Sending request to https://cds.climate.copernicus.eu/api/v2/resources/reanalysis-era5-land\n"
     ]
    },
    {
     "name": "stdout",
     "output_type": "stream",
     "text": [
      "=========================================================\n",
      "Downloading 2017-01\n"
     ]
    },
    {
     "name": "stderr",
     "output_type": "stream",
     "text": [
      "2021-04-10 03:52:57,909 INFO Request is queued\n",
      "2021-04-10 03:52:59,061 INFO Request is running\n",
      "2021-04-10 03:54:52,851 INFO Request is completed\n",
      "2021-04-10 03:54:52,852 INFO Downloading https://download-0002.copernicus-climate.eu/cache-compute-0002/cache/data9/adaptor.mars.internal-1618048378.2076702-8654-29-4496a924-2b42-4713-a3f4-6cc0bc16ef2b.grib to //mnt/DataDrive2/data/mjolly/era5-land/era5-land-surface_solar_radiation_downwards-2017-01.grib (5.2G)\n",
      "2021-04-10 04:28:43,316 INFO Download rate 2.6M/s      \n",
      "2021-04-10 04:28:44,063 INFO Welcome to the CDS\n",
      "2021-04-10 04:28:44,064 INFO Sending request to https://cds.climate.copernicus.eu/api/v2/resources/reanalysis-era5-land\n"
     ]
    },
    {
     "name": "stdout",
     "output_type": "stream",
     "text": [
      "=========================================================\n",
      "Downloading 2017-02\n"
     ]
    },
    {
     "name": "stderr",
     "output_type": "stream",
     "text": [
      "2021-04-10 04:28:44,264 INFO Request is queued\n",
      "2021-04-10 04:28:45,416 INFO Request is running\n",
      "2021-04-10 04:30:39,207 INFO Request is completed\n",
      "2021-04-10 04:30:39,208 INFO Downloading https://download-0000.copernicus-climate.eu/cache-compute-0000/cache/data4/adaptor.mars.internal-1618050524.5972936-22455-1-4cee4e81-4991-43a7-8c5f-80989707e0c4.grib to //mnt/DataDrive2/data/mjolly/era5-land/era5-land-surface_solar_radiation_downwards-2017-02.grib (4.7G)\n",
      "2021-04-10 04:48:42,558 INFO Download rate 4.4M/s      \n",
      "2021-04-10 04:48:43,312 INFO Welcome to the CDS\n",
      "2021-04-10 04:48:43,313 INFO Sending request to https://cds.climate.copernicus.eu/api/v2/resources/reanalysis-era5-land\n"
     ]
    },
    {
     "name": "stdout",
     "output_type": "stream",
     "text": [
      "=========================================================\n",
      "Downloading 2017-03\n"
     ]
    },
    {
     "name": "stderr",
     "output_type": "stream",
     "text": [
      "2021-04-10 04:48:44,010 INFO Request is queued\n",
      "2021-04-10 04:48:49,225 INFO Request is running\n",
      "2021-04-10 04:50:38,975 INFO Request is completed\n",
      "2021-04-10 04:50:38,976 INFO Downloading https://download-0012.copernicus-climate.eu/cache-compute-0012/cache/data4/adaptor.mars.internal-1618051727.297751-28485-5-8ac43af0-bbc8-44b9-8427-5fdf3c8c97cb.grib to //mnt/DataDrive2/data/mjolly/era5-land/era5-land-surface_solar_radiation_downwards-2017-03.grib (5.2G)\n",
      "2021-04-10 05:07:01,928 INFO Download rate 5.4M/s      \n",
      "2021-04-10 05:07:02,694 INFO Welcome to the CDS\n",
      "2021-04-10 05:07:02,695 INFO Sending request to https://cds.climate.copernicus.eu/api/v2/resources/reanalysis-era5-land\n"
     ]
    },
    {
     "name": "stdout",
     "output_type": "stream",
     "text": [
      "=========================================================\n",
      "Downloading 2017-04\n"
     ]
    },
    {
     "name": "stderr",
     "output_type": "stream",
     "text": [
      "2021-04-10 05:07:02,923 INFO Request is queued\n",
      "2021-04-10 05:07:04,076 INFO Request is running\n",
      "2021-04-10 05:08:57,876 INFO Request is completed\n",
      "2021-04-10 05:08:57,877 INFO Downloading https://download-0007.copernicus-climate.eu/cache-compute-0007/cache/data8/adaptor.mars.internal-1618052823.6447773-32130-20-e10c3d36-a730-47b5-8a82-966ef811c235.grib to //mnt/DataDrive2/data/mjolly/era5-land/era5-land-surface_solar_radiation_downwards-2017-04.grib (5G)\n",
      "2021-04-10 05:22:28,357 INFO Download rate 6.3M/s      \n",
      "2021-04-10 05:22:29,137 INFO Welcome to the CDS\n",
      "2021-04-10 05:22:29,138 INFO Sending request to https://cds.climate.copernicus.eu/api/v2/resources/reanalysis-era5-land\n"
     ]
    },
    {
     "name": "stdout",
     "output_type": "stream",
     "text": [
      "=========================================================\n",
      "Downloading 2017-05\n"
     ]
    },
    {
     "name": "stderr",
     "output_type": "stream",
     "text": [
      "2021-04-10 05:22:29,356 INFO Request is queued\n",
      "2021-04-10 05:22:30,508 INFO Request is running\n",
      "2021-04-10 05:24:24,301 INFO Request is completed\n",
      "2021-04-10 05:24:24,303 INFO Downloading https://download-0000.copernicus-climate.eu/cache-compute-0000/cache/data1/adaptor.mars.internal-1618053749.5082092-14066-13-5a7c4238-8065-47f7-8206-fce8a7ec12d8.grib to //mnt/DataDrive2/data/mjolly/era5-land/era5-land-surface_solar_radiation_downwards-2017-05.grib (5.2G)\n",
      "2021-04-10 05:37:08,505 INFO Download rate 6.9M/s      \n",
      "2021-04-10 05:37:09,369 INFO Welcome to the CDS\n",
      "2021-04-10 05:37:09,370 INFO Sending request to https://cds.climate.copernicus.eu/api/v2/resources/reanalysis-era5-land\n"
     ]
    },
    {
     "name": "stdout",
     "output_type": "stream",
     "text": [
      "=========================================================\n",
      "Downloading 2017-06\n"
     ]
    },
    {
     "name": "stderr",
     "output_type": "stream",
     "text": [
      "2021-04-10 05:37:09,728 INFO Request is queued\n",
      "2021-04-10 05:37:10,881 INFO Request is running\n",
      "2021-04-10 05:39:04,679 INFO Request is completed\n",
      "2021-04-10 05:39:04,680 INFO Downloading https://download-0007.copernicus-climate.eu/cache-compute-0007/cache/data1/adaptor.mars.internal-1618054630.356232-18987-10-74543128-0141-4e0a-8f15-d9226d800126.grib to //mnt/DataDrive2/data/mjolly/era5-land/era5-land-surface_solar_radiation_downwards-2017-06.grib (5G)\n",
      "2021-04-10 05:51:46,841 INFO Download rate 6.7M/s      \n",
      "2021-04-10 05:51:47,600 INFO Welcome to the CDS\n",
      "2021-04-10 05:51:47,601 INFO Sending request to https://cds.climate.copernicus.eu/api/v2/resources/reanalysis-era5-land\n"
     ]
    },
    {
     "name": "stdout",
     "output_type": "stream",
     "text": [
      "=========================================================\n",
      "Downloading 2017-07\n"
     ]
    },
    {
     "name": "stderr",
     "output_type": "stream",
     "text": [
      "2021-04-10 05:51:47,852 INFO Request is queued\n",
      "2021-04-10 05:51:49,005 INFO Request is running\n",
      "2021-04-10 05:53:43,016 INFO Request is completed\n",
      "2021-04-10 05:53:43,017 INFO Downloading https://download-0005.copernicus-climate.eu/cache-compute-0005/cache/data9/adaptor.mars.internal-1618055507.9541554-17916-3-35769246-6fd5-44df-93f1-0fad5cfcafca.grib to //mnt/DataDrive2/data/mjolly/era5-land/era5-land-surface_solar_radiation_downwards-2017-07.grib (5.2G)\n",
      "2021-04-10 06:08:44,217 INFO Download rate 5.9M/s      \n",
      "2021-04-10 06:08:44,969 INFO Welcome to the CDS\n",
      "2021-04-10 06:08:44,970 INFO Sending request to https://cds.climate.copernicus.eu/api/v2/resources/reanalysis-era5-land\n"
     ]
    },
    {
     "name": "stdout",
     "output_type": "stream",
     "text": [
      "=========================================================\n",
      "Downloading 2017-08\n"
     ]
    },
    {
     "name": "stderr",
     "output_type": "stream",
     "text": [
      "2021-04-10 06:08:46,388 INFO Request is queued\n",
      "2021-04-10 06:08:47,541 INFO Request is running\n",
      "2021-04-10 06:10:41,352 INFO Request is completed\n",
      "2021-04-10 06:10:41,353 INFO Downloading https://download-0015.copernicus-climate.eu/cache-compute-0015/cache/data7/adaptor.mars.internal-1618056527.215866-23423-10-7fcd2065-27ff-456d-b412-117849bb458a.grib to //mnt/DataDrive2/data/mjolly/era5-land/era5-land-surface_solar_radiation_downwards-2017-08.grib (5.2G)\n",
      "2021-04-10 06:23:38,784 INFO Download rate 6.8M/s      \n",
      "2021-04-10 06:23:39,582 INFO Welcome to the CDS\n",
      "2021-04-10 06:23:39,582 INFO Sending request to https://cds.climate.copernicus.eu/api/v2/resources/reanalysis-era5-land\n"
     ]
    },
    {
     "name": "stdout",
     "output_type": "stream",
     "text": [
      "=========================================================\n",
      "Downloading 2017-09\n"
     ]
    },
    {
     "name": "stderr",
     "output_type": "stream",
     "text": [
      "2021-04-10 06:23:39,790 INFO Request is queued\n",
      "2021-04-10 06:23:44,998 INFO Request is running\n",
      "2021-04-10 06:25:34,753 INFO Request is completed\n",
      "2021-04-10 06:25:34,754 INFO Downloading https://download-0011.copernicus-climate.eu/cache-compute-0011/cache/data8/adaptor.mars.internal-1618057424.9721901-14775-3-dffac0a1-5738-40b9-aef1-ec51e136ba09.grib to //mnt/DataDrive2/data/mjolly/era5-land/era5-land-surface_solar_radiation_downwards-2017-09.grib (5G)\n",
      "2021-04-10 06:38:31,857 INFO Download rate 6.6M/s      \n",
      "2021-04-10 06:38:32,638 INFO Welcome to the CDS\n",
      "2021-04-10 06:38:32,638 INFO Sending request to https://cds.climate.copernicus.eu/api/v2/resources/reanalysis-era5-land\n"
     ]
    },
    {
     "name": "stdout",
     "output_type": "stream",
     "text": [
      "=========================================================\n",
      "Downloading 2017-10\n"
     ]
    },
    {
     "name": "stderr",
     "output_type": "stream",
     "text": [
      "2021-04-10 06:38:32,864 INFO Request is queued\n",
      "2021-04-10 06:38:34,016 INFO Request is running\n",
      "2021-04-10 06:40:27,796 INFO Request is completed\n",
      "2021-04-10 06:40:27,797 INFO Downloading https://download-0015.copernicus-climate.eu/cache-compute-0015/cache/data5/adaptor.mars.internal-1618058313.0928912-31133-13-0bdb259d-43fe-40d3-a52a-fee349a9d1c5.grib to //mnt/DataDrive2/data/mjolly/era5-land/era5-land-surface_solar_radiation_downwards-2017-10.grib (5.2G)\n",
      "2021-04-10 06:55:05,696 INFO Download rate 6M/s        \n",
      "2021-04-10 06:55:06,457 INFO Welcome to the CDS\n",
      "2021-04-10 06:55:06,458 INFO Sending request to https://cds.climate.copernicus.eu/api/v2/resources/reanalysis-era5-land\n"
     ]
    },
    {
     "name": "stdout",
     "output_type": "stream",
     "text": [
      "=========================================================\n",
      "Downloading 2017-11\n"
     ]
    },
    {
     "name": "stderr",
     "output_type": "stream",
     "text": [
      "2021-04-10 06:55:06,652 INFO Request is queued\n",
      "2021-04-10 06:55:07,805 INFO Request is running\n",
      "2021-04-10 06:57:01,587 INFO Request is completed\n",
      "2021-04-10 06:57:01,588 INFO Downloading https://download-0012.copernicus-climate.eu/cache-compute-0012/cache/data4/adaptor.mars.internal-1618059306.8869157-28371-18-aa69547e-5cf7-4c6e-af56-b1e90755169e.grib to //mnt/DataDrive2/data/mjolly/era5-land/era5-land-surface_solar_radiation_downwards-2017-11.grib (5G)\n",
      "2021-04-10 07:12:30,971 INFO Download rate 5.5M/s      \n",
      "2021-04-10 07:12:31,720 INFO Welcome to the CDS\n",
      "2021-04-10 07:12:31,721 INFO Sending request to https://cds.climate.copernicus.eu/api/v2/resources/reanalysis-era5-land\n"
     ]
    },
    {
     "name": "stdout",
     "output_type": "stream",
     "text": [
      "=========================================================\n",
      "Downloading 2017-12\n"
     ]
    },
    {
     "name": "stderr",
     "output_type": "stream",
     "text": [
      "2021-04-10 07:12:31,903 INFO Request is queued\n",
      "2021-04-10 07:12:33,056 INFO Request is running\n",
      "2021-04-10 07:14:26,857 INFO Request is completed\n",
      "2021-04-10 07:14:26,859 INFO Downloading https://download-0015.copernicus-climate.eu/cache-compute-0015/cache/data0/adaptor.mars.internal-1618060352.0407102-22320-20-d664a43c-a27f-4fcc-84a4-5745e7dda367.grib to //mnt/DataDrive2/data/mjolly/era5-land/era5-land-surface_solar_radiation_downwards-2017-12.grib (5.2G)\n",
      "2021-04-10 07:31:40,801 INFO Download rate 5.1M/s      \n",
      "2021-04-10 07:31:41,556 INFO Welcome to the CDS\n",
      "2021-04-10 07:31:41,556 INFO Sending request to https://cds.climate.copernicus.eu/api/v2/resources/reanalysis-era5-land\n"
     ]
    },
    {
     "name": "stdout",
     "output_type": "stream",
     "text": [
      "=========================================================\n",
      "Downloading 2018-01\n"
     ]
    },
    {
     "name": "stderr",
     "output_type": "stream",
     "text": [
      "2021-04-10 07:31:41,784 INFO Request is queued\n",
      "2021-04-10 07:31:50,518 INFO Request is running\n",
      "2021-04-10 07:33:36,725 INFO Request is completed\n",
      "2021-04-10 07:33:36,726 INFO Downloading https://download-0003.copernicus-climate.eu/cache-compute-0003/cache/data2/adaptor.mars.internal-1618061508.4069114-10618-4-619e3ead-19e7-4d8b-b7d7-615d3ed7eea4.grib to //mnt/DataDrive2/data/mjolly/era5-land/era5-land-surface_solar_radiation_downwards-2018-01.grib (5.2G)\n",
      "2021-04-10 07:47:17,505 INFO Download rate 6.4M/s      \n",
      "2021-04-10 07:47:18,303 INFO Welcome to the CDS\n",
      "2021-04-10 07:47:18,304 INFO Sending request to https://cds.climate.copernicus.eu/api/v2/resources/reanalysis-era5-land\n"
     ]
    },
    {
     "name": "stdout",
     "output_type": "stream",
     "text": [
      "=========================================================\n",
      "Downloading 2018-02\n"
     ]
    },
    {
     "name": "stderr",
     "output_type": "stream",
     "text": [
      "2021-04-10 07:47:18,495 INFO Request is queued\n",
      "2021-04-10 07:47:19,647 INFO Request is running\n",
      "2021-04-10 07:49:13,453 INFO Request is completed\n",
      "2021-04-10 07:49:13,454 INFO Downloading https://download-0002.copernicus-climate.eu/cache-compute-0002/cache/data9/adaptor.mars.internal-1618062439.2325084-6126-30-637bc907-ec5f-488a-96e0-8bed5e5b1e14.grib to //mnt/DataDrive2/data/mjolly/era5-land/era5-land-surface_solar_radiation_downwards-2018-02.grib (4.7G)\n",
      "2021-04-10 08:00:43,226 INFO Download rate 6.9M/s      \n",
      "2021-04-10 08:00:43,969 INFO Welcome to the CDS\n",
      "2021-04-10 08:00:43,970 INFO Sending request to https://cds.climate.copernicus.eu/api/v2/resources/reanalysis-era5-land\n"
     ]
    },
    {
     "name": "stdout",
     "output_type": "stream",
     "text": [
      "=========================================================\n",
      "Downloading 2018-03\n"
     ]
    },
    {
     "name": "stderr",
     "output_type": "stream",
     "text": [
      "2021-04-10 08:00:44,172 INFO Request is queued\n",
      "2021-04-10 08:00:49,379 INFO Request is running\n",
      "2021-04-10 08:02:39,110 INFO Request is completed\n",
      "2021-04-10 08:02:39,111 INFO Downloading https://download-0003.copernicus-climate.eu/cache-compute-0003/cache/data8/adaptor.mars.internal-1618063247.3317444-22077-13-4a6575d0-5a16-467c-9a3e-761c8bfa72df.grib to //mnt/DataDrive2/data/mjolly/era5-land/era5-land-surface_solar_radiation_downwards-2018-03.grib (5.2G)\n",
      "2021-04-10 08:16:22,034 INFO Download rate 6.4M/s      \n",
      "2021-04-10 08:16:22,856 INFO Welcome to the CDS\n",
      "2021-04-10 08:16:22,856 INFO Sending request to https://cds.climate.copernicus.eu/api/v2/resources/reanalysis-era5-land\n"
     ]
    },
    {
     "name": "stdout",
     "output_type": "stream",
     "text": [
      "=========================================================\n",
      "Downloading 2018-04\n"
     ]
    },
    {
     "name": "stderr",
     "output_type": "stream",
     "text": [
      "2021-04-10 08:16:23,062 INFO Request is queued\n",
      "2021-04-10 08:16:24,214 INFO Request is running\n",
      "2021-04-10 08:18:18,016 INFO Request is completed\n",
      "2021-04-10 08:18:18,017 INFO Downloading https://download-0013.copernicus-climate.eu/cache-compute-0013/cache/data2/adaptor.mars.internal-1618064184.2015338-13418-4-0847f4f7-345b-4ced-9fa5-e25c0aa9d5f1.grib to //mnt/DataDrive2/data/mjolly/era5-land/era5-land-surface_solar_radiation_downwards-2018-04.grib (5G)\n",
      "2021-04-10 08:29:13,708 INFO Download rate 7.8M/s      \n",
      "2021-04-10 08:29:14,477 INFO Welcome to the CDS\n",
      "2021-04-10 08:29:14,478 INFO Sending request to https://cds.climate.copernicus.eu/api/v2/resources/reanalysis-era5-land\n"
     ]
    },
    {
     "name": "stdout",
     "output_type": "stream",
     "text": [
      "=========================================================\n",
      "Downloading 2018-05\n"
     ]
    },
    {
     "name": "stderr",
     "output_type": "stream",
     "text": [
      "2021-04-10 08:29:14,678 INFO Request is queued\n",
      "2021-04-10 08:29:23,627 INFO Request is running\n",
      "2021-04-10 08:31:09,848 INFO Request is completed\n",
      "2021-04-10 08:31:09,849 INFO Downloading https://download-0004.copernicus-climate.eu/cache-compute-0004/cache/data3/adaptor.mars.internal-1618064961.6635907-26482-12-10c0e7f6-1759-4094-ac78-63b11b33a486.grib to //mnt/DataDrive2/data/mjolly/era5-land/era5-land-surface_solar_radiation_downwards-2018-05.grib (5.2G)\n",
      "2021-04-10 08:43:00,765 INFO Download rate 7.4M/s      \n",
      "2021-04-10 08:43:01,543 INFO Welcome to the CDS\n",
      "2021-04-10 08:43:01,544 INFO Sending request to https://cds.climate.copernicus.eu/api/v2/resources/reanalysis-era5-land\n"
     ]
    },
    {
     "name": "stdout",
     "output_type": "stream",
     "text": [
      "=========================================================\n",
      "Downloading 2018-06\n"
     ]
    },
    {
     "name": "stderr",
     "output_type": "stream",
     "text": [
      "2021-04-10 08:43:01,734 INFO Request is queued\n",
      "2021-04-10 08:43:04,539 INFO Request is running\n",
      "2021-04-10 08:44:56,690 INFO Request is completed\n",
      "2021-04-10 08:44:56,691 INFO Downloading https://download-0000.copernicus-climate.eu/cache-compute-0000/cache/data4/adaptor.mars.internal-1618065784.3801727-2108-13-c2cdbf46-7dad-4186-80e2-851eb9d21630.grib to //mnt/DataDrive2/data/mjolly/era5-land/era5-land-surface_solar_radiation_downwards-2018-06.grib (5G)\n",
      "2021-04-10 08:55:39,511 INFO Download rate 8M/s        \n",
      "2021-04-10 08:55:40,260 INFO Welcome to the CDS\n",
      "2021-04-10 08:55:40,261 INFO Sending request to https://cds.climate.copernicus.eu/api/v2/resources/reanalysis-era5-land\n"
     ]
    },
    {
     "name": "stdout",
     "output_type": "stream",
     "text": [
      "=========================================================\n",
      "Downloading 2018-07\n"
     ]
    },
    {
     "name": "stderr",
     "output_type": "stream",
     "text": [
      "2021-04-10 08:55:40,461 INFO Request is queued\n",
      "2021-04-10 08:55:41,614 INFO Request is running\n",
      "2021-04-10 08:57:35,417 INFO Request is completed\n",
      "2021-04-10 08:57:35,418 INFO Downloading https://download-0014.copernicus-climate.eu/cache-compute-0014/cache/data4/adaptor.mars.internal-1618066541.0740986-30167-22-375a2bfc-bb33-42bf-b806-b9859e58cbee.grib to //mnt/DataDrive2/data/mjolly/era5-land/era5-land-surface_solar_radiation_downwards-2018-07.grib (5.2G)\n",
      "2021-04-10 09:10:56,060 INFO Download rate 6.6M/s      \n",
      "2021-04-10 09:10:56,843 INFO Welcome to the CDS\n",
      "2021-04-10 09:10:56,844 INFO Sending request to https://cds.climate.copernicus.eu/api/v2/resources/reanalysis-era5-land\n"
     ]
    },
    {
     "name": "stdout",
     "output_type": "stream",
     "text": [
      "=========================================================\n",
      "Downloading 2018-08\n"
     ]
    },
    {
     "name": "stderr",
     "output_type": "stream",
     "text": [
      "2021-04-10 09:10:57,068 INFO Request is queued\n",
      "2021-04-10 09:10:59,872 INFO Request is running\n",
      "2021-04-10 09:12:52,022 INFO Request is completed\n",
      "2021-04-10 09:12:52,023 INFO Downloading https://download-0006.copernicus-climate.eu/cache-compute-0006/cache/data7/adaptor.mars.internal-1618067458.6678426-715-17-df964fa8-976b-4103-9379-e0134ab4e3c0.grib to //mnt/DataDrive2/data/mjolly/era5-land/era5-land-surface_solar_radiation_downwards-2018-08.grib (5.2G)\n",
      "2021-04-10 09:24:27,944 INFO Download rate 7.6M/s      \n",
      "2021-04-10 09:24:28,715 INFO Welcome to the CDS\n",
      "2021-04-10 09:24:28,716 INFO Sending request to https://cds.climate.copernicus.eu/api/v2/resources/reanalysis-era5-land\n"
     ]
    },
    {
     "name": "stdout",
     "output_type": "stream",
     "text": [
      "=========================================================\n",
      "Downloading 2018-09\n"
     ]
    },
    {
     "name": "stderr",
     "output_type": "stream",
     "text": [
      "2021-04-10 09:24:28,931 INFO Request is queued\n",
      "2021-04-10 09:24:34,136 INFO Request is running\n",
      "2021-04-10 09:26:23,873 INFO Request is completed\n",
      "2021-04-10 09:26:23,875 INFO Downloading https://download-0001.copernicus-climate.eu/cache-compute-0001/cache/data0/adaptor.mars.internal-1618068272.8582938-5285-17-7a1dbe8d-00b1-47c1-95c7-fca987694868.grib to //mnt/DataDrive2/data/mjolly/era5-land/era5-land-surface_solar_radiation_downwards-2018-09.grib (5G)\n",
      "2021-04-10 09:38:17,483 INFO Download rate 7.2M/s      \n",
      "2021-04-10 09:38:18,323 INFO Welcome to the CDS\n",
      "2021-04-10 09:38:18,323 INFO Sending request to https://cds.climate.copernicus.eu/api/v2/resources/reanalysis-era5-land\n"
     ]
    },
    {
     "name": "stdout",
     "output_type": "stream",
     "text": [
      "=========================================================\n",
      "Downloading 2018-10\n"
     ]
    },
    {
     "name": "stderr",
     "output_type": "stream",
     "text": [
      "2021-04-10 09:38:18,587 INFO Request is queued\n",
      "2021-04-10 09:38:19,738 INFO Request is running\n",
      "2021-04-10 09:40:13,524 INFO Request is completed\n",
      "2021-04-10 09:40:13,526 INFO Downloading https://download-0007.copernicus-climate.eu/cache-compute-0007/cache/data8/adaptor.mars.internal-1618069098.8598843-23683-15-368e7285-e51a-48db-885d-03ea0bfdab9a.grib to //mnt/DataDrive2/data/mjolly/era5-land/era5-land-surface_solar_radiation_downwards-2018-10.grib (5.2G)\n",
      "2021-04-10 09:49:58,550 INFO Download rate 9M/s        \n",
      "2021-04-10 09:49:59,329 INFO Welcome to the CDS\n",
      "2021-04-10 09:49:59,330 INFO Sending request to https://cds.climate.copernicus.eu/api/v2/resources/reanalysis-era5-land\n"
     ]
    },
    {
     "name": "stdout",
     "output_type": "stream",
     "text": [
      "=========================================================\n",
      "Downloading 2018-11\n"
     ]
    },
    {
     "name": "stderr",
     "output_type": "stream",
     "text": [
      "2021-04-10 09:49:59,587 INFO Request is queued\n",
      "2021-04-10 10:18:27,932 INFO Request is running\n",
      "2021-04-10 10:20:28,626 INFO Request is completed\n",
      "2021-04-10 10:20:28,627 INFO Downloading https://download-0013.copernicus-climate.eu/cache-compute-0013/cache/data9/adaptor.mars.internal-1618071451.743058-4478-9-8f66bb86-d282-477c-9936-eec69cd5e205.grib to //mnt/DataDrive2/data/mjolly/era5-land/era5-land-surface_solar_radiation_downwards-2018-11.grib (5G)\n",
      "2021-04-10 10:33:02,866 INFO Download rate 6.8M/s      \n",
      "2021-04-10 10:33:03,623 INFO Welcome to the CDS\n",
      "2021-04-10 10:33:03,624 INFO Sending request to https://cds.climate.copernicus.eu/api/v2/resources/reanalysis-era5-land\n"
     ]
    },
    {
     "name": "stdout",
     "output_type": "stream",
     "text": [
      "=========================================================\n",
      "Downloading 2018-12\n"
     ]
    },
    {
     "name": "stderr",
     "output_type": "stream",
     "text": [
      "2021-04-10 10:33:03,804 INFO Request is queued\n",
      "2021-04-10 12:58:11,778 INFO Request is running\n",
      "2021-04-10 13:00:12,478 INFO Request is completed\n",
      "2021-04-10 13:00:12,479 INFO Downloading https://download-0008.copernicus-climate.eu/cache-compute-0008/cache/data9/adaptor.mars.internal-1618081085.3307226-18207-36-37681f5d-05ce-4236-a524-3b464b825f15.grib to //mnt/DataDrive2/data/mjolly/era5-land/era5-land-surface_solar_radiation_downwards-2018-12.grib (5.2G)\n",
      "2021-04-10 13:23:54,655 INFO Download rate 3.7M/s      \n",
      "2021-04-10 13:23:55,512 INFO Welcome to the CDS\n",
      "2021-04-10 13:23:55,513 INFO Sending request to https://cds.climate.copernicus.eu/api/v2/resources/reanalysis-era5-land\n"
     ]
    },
    {
     "name": "stdout",
     "output_type": "stream",
     "text": [
      "=========================================================\n",
      "Downloading 2019-01\n"
     ]
    },
    {
     "name": "stderr",
     "output_type": "stream",
     "text": [
      "2021-04-10 13:23:55,756 INFO Request is queued\n",
      "2021-04-10 13:23:56,914 INFO Request is running\n",
      "2021-04-10 13:25:50,702 INFO Request is completed\n",
      "2021-04-10 13:25:50,703 INFO Downloading https://download-0008.copernicus-climate.eu/cache-compute-0008/cache/data1/adaptor.mars.internal-1618082635.8774393-1082-20-9bcf7d79-fd12-40ea-8606-67e97ab5cc20.grib to //mnt/DataDrive2/data/mjolly/era5-land/era5-land-surface_solar_radiation_downwards-2019-01.grib (5.2G)\n",
      "2021-04-10 13:51:47,505 INFO Download rate 3.4M/s      \n",
      "2021-04-10 13:51:48,255 INFO Welcome to the CDS\n",
      "2021-04-10 13:51:48,255 INFO Sending request to https://cds.climate.copernicus.eu/api/v2/resources/reanalysis-era5-land\n"
     ]
    },
    {
     "name": "stdout",
     "output_type": "stream",
     "text": [
      "=========================================================\n",
      "Downloading 2019-02\n"
     ]
    },
    {
     "name": "stderr",
     "output_type": "stream",
     "text": [
      "2021-04-10 13:51:48,561 INFO Request is queued\n",
      "2021-04-10 13:51:49,715 INFO Request is running\n",
      "2021-04-10 13:53:43,519 INFO Request is completed\n",
      "2021-04-10 13:53:43,520 INFO Downloading https://download-0011.copernicus-climate.eu/cache-compute-0011/cache/data2/adaptor.mars.internal-1618084308.7360766-29969-32-1ed37950-bbe6-4a76-9d63-e267354e3bbd.grib to //mnt/DataDrive2/data/mjolly/era5-land/era5-land-surface_solar_radiation_downwards-2019-02.grib (4.7G)\n",
      "2021-04-10 14:10:32,242 INFO Download rate 4.7M/s      \n",
      "2021-04-10 14:10:32,989 INFO Welcome to the CDS\n",
      "2021-04-10 14:10:32,990 INFO Sending request to https://cds.climate.copernicus.eu/api/v2/resources/reanalysis-era5-land\n"
     ]
    },
    {
     "name": "stdout",
     "output_type": "stream",
     "text": [
      "=========================================================\n",
      "Downloading 2019-03\n"
     ]
    },
    {
     "name": "stderr",
     "output_type": "stream",
     "text": [
      "2021-04-10 14:10:33,217 INFO Request is queued\n",
      "2021-04-10 15:17:14,568 INFO Request is running\n",
      "2021-04-10 15:19:15,270 INFO Request is completed\n",
      "2021-04-10 15:19:15,271 INFO Downloading https://download-0004.copernicus-climate.eu/cache-compute-0004/cache/data1/adaptor.mars.internal-1618089428.2731295-652-28-5717542a-607d-40e4-8ba5-4b28ac5dd4d9.grib to //mnt/DataDrive2/data/mjolly/era5-land/era5-land-surface_solar_radiation_downwards-2019-03.grib (5.2G)\n",
      "2021-04-10 15:36:57,749 INFO Download rate 5M/s        \n",
      "2021-04-10 15:36:58,563 INFO Welcome to the CDS\n",
      "2021-04-10 15:36:58,564 INFO Sending request to https://cds.climate.copernicus.eu/api/v2/resources/reanalysis-era5-land\n"
     ]
    },
    {
     "name": "stdout",
     "output_type": "stream",
     "text": [
      "=========================================================\n",
      "Downloading 2019-04\n"
     ]
    },
    {
     "name": "stderr",
     "output_type": "stream",
     "text": [
      "2021-04-10 15:36:58,770 INFO Request is queued\n",
      "2021-04-10 15:37:01,577 INFO Request is running\n",
      "2021-04-10 15:38:53,730 INFO Request is completed\n",
      "2021-04-10 15:38:53,731 INFO Downloading https://download-0005.copernicus-climate.eu/cache-compute-0005/cache/data5/adaptor.mars.internal-1618090621.056298-28199-19-a93abf66-33f8-49eb-a408-08daa27c74b4.grib to //mnt/DataDrive2/data/mjolly/era5-land/era5-land-surface_solar_radiation_downwards-2019-04.grib (5G)\n",
      "2021-04-10 15:59:25,943 INFO Download rate 4.2M/s      \n",
      "2021-04-10 15:59:26,745 INFO Welcome to the CDS\n",
      "2021-04-10 15:59:26,745 INFO Sending request to https://cds.climate.copernicus.eu/api/v2/resources/reanalysis-era5-land\n"
     ]
    },
    {
     "name": "stdout",
     "output_type": "stream",
     "text": [
      "=========================================================\n",
      "Downloading 2019-05\n"
     ]
    },
    {
     "name": "stderr",
     "output_type": "stream",
     "text": [
      "2021-04-10 15:59:26,938 INFO Request is queued\n",
      "2021-04-10 15:59:28,091 INFO Request is running\n",
      "2021-04-10 16:01:21,898 INFO Request is completed\n",
      "2021-04-10 16:01:21,899 INFO Downloading https://download-0004.copernicus-climate.eu/cache-compute-0004/cache/data7/adaptor.mars.internal-1618091966.9634554-25047-25-41a84600-6487-480b-ae65-c2b20a44df14.grib to //mnt/DataDrive2/data/mjolly/era5-land/era5-land-surface_solar_radiation_downwards-2019-05.grib (5.2G)\n",
      "2021-04-10 16:24:24,195 INFO Download rate 3.8M/s      \n",
      "2021-04-10 16:24:24,984 INFO Welcome to the CDS\n",
      "2021-04-10 16:24:24,985 INFO Sending request to https://cds.climate.copernicus.eu/api/v2/resources/reanalysis-era5-land\n"
     ]
    },
    {
     "name": "stdout",
     "output_type": "stream",
     "text": [
      "=========================================================\n",
      "Downloading 2019-06\n"
     ]
    },
    {
     "name": "stderr",
     "output_type": "stream",
     "text": [
      "2021-04-10 16:24:25,156 INFO Request is queued\n",
      "2021-04-10 16:24:27,958 INFO Request is running\n",
      "2021-04-10 16:25:41,466 INFO Request is completed\n",
      "2021-04-10 16:25:41,467 INFO Downloading https://download-0006.copernicus-climate.eu/cache-compute-0006/cache/data0/adaptor.mars.internal-1618093466.3832471-8066-13-9968d437-8464-4371-b41e-d0507762fa3c.grib to //mnt/DataDrive2/data/mjolly/era5-land/era5-land-surface_solar_radiation_downwards-2019-06.grib (5G)\n",
      "2021-04-10 16:43:09,303 INFO Download rate 4.9M/s      \n",
      "2021-04-10 16:43:10,050 INFO Welcome to the CDS\n",
      "2021-04-10 16:43:10,051 INFO Sending request to https://cds.climate.copernicus.eu/api/v2/resources/reanalysis-era5-land\n"
     ]
    },
    {
     "name": "stdout",
     "output_type": "stream",
     "text": [
      "=========================================================\n",
      "Downloading 2019-07\n"
     ]
    },
    {
     "name": "stderr",
     "output_type": "stream",
     "text": [
      "2021-04-10 16:43:10,308 INFO Request is queued\n",
      "2021-04-10 16:43:19,042 INFO Request is running\n",
      "2021-04-10 16:45:05,227 INFO Request is completed\n",
      "2021-04-10 16:45:05,228 INFO Downloading https://download-0011.copernicus-climate.eu/cache-compute-0011/cache/data9/adaptor.mars.internal-1618094596.002674-26415-19-eb250e9d-6d8e-4003-be16-99e0742320e5.grib to //mnt/DataDrive2/data/mjolly/era5-land/era5-land-surface_solar_radiation_downwards-2019-07.grib (5.2G)\n",
      "2021-04-10 17:08:57,078 INFO Download rate 3.7M/s      \n",
      "2021-04-10 17:08:57,853 INFO Welcome to the CDS\n",
      "2021-04-10 17:08:57,854 INFO Sending request to https://cds.climate.copernicus.eu/api/v2/resources/reanalysis-era5-land\n"
     ]
    },
    {
     "name": "stdout",
     "output_type": "stream",
     "text": [
      "=========================================================\n",
      "Downloading 2019-08\n"
     ]
    },
    {
     "name": "stderr",
     "output_type": "stream",
     "text": [
      "2021-04-10 17:08:58,058 INFO Request is queued\n",
      "2021-04-10 17:08:59,211 INFO Request is running\n",
      "2021-04-10 17:10:14,385 INFO Request is completed\n",
      "2021-04-10 17:10:14,386 INFO Downloading https://download-0007.copernicus-climate.eu/cache-compute-0007/cache/data2/adaptor.mars.internal-1618096138.1274028-6870-1-0ee74545-e991-43de-a324-3cd0b7290d0c.grib to //mnt/DataDrive2/data/mjolly/era5-land/era5-land-surface_solar_radiation_downwards-2019-08.grib (5.2G)\n",
      "2021-04-10 17:33:23,668 INFO Download rate 3.8M/s      \n",
      "2021-04-10 17:33:24,415 INFO Welcome to the CDS\n",
      "2021-04-10 17:33:24,415 INFO Sending request to https://cds.climate.copernicus.eu/api/v2/resources/reanalysis-era5-land\n"
     ]
    },
    {
     "name": "stdout",
     "output_type": "stream",
     "text": [
      "=========================================================\n",
      "Downloading 2019-09\n"
     ]
    },
    {
     "name": "stderr",
     "output_type": "stream",
     "text": [
      "2021-04-10 17:33:24,610 INFO Request is queued\n",
      "2021-04-10 17:33:25,762 INFO Request is running\n",
      "2021-04-10 17:34:40,923 INFO Request is completed\n",
      "2021-04-10 17:34:40,924 INFO Downloading https://download-0013.copernicus-climate.eu/cache-compute-0013/cache/data1/adaptor.mars.internal-1618097604.8159573-695-19-158c2805-5785-4b66-b31c-96aab3c681df.grib to //mnt/DataDrive2/data/mjolly/era5-land/era5-land-surface_solar_radiation_downwards-2019-09.grib (5G)\n",
      "2021-04-10 17:58:59,896 INFO Download rate 3.5M/s      \n",
      "2021-04-10 17:59:00,642 INFO Welcome to the CDS\n",
      "2021-04-10 17:59:00,642 INFO Sending request to https://cds.climate.copernicus.eu/api/v2/resources/reanalysis-era5-land\n"
     ]
    },
    {
     "name": "stdout",
     "output_type": "stream",
     "text": [
      "=========================================================\n",
      "Downloading 2019-10\n"
     ]
    },
    {
     "name": "stderr",
     "output_type": "stream",
     "text": [
      "2021-04-10 17:59:00,840 INFO Request is queued\n",
      "2021-04-10 17:59:01,992 INFO Request is running\n",
      "2021-04-10 18:00:17,154 INFO Request is completed\n",
      "2021-04-10 18:00:17,155 INFO Downloading https://download-0004.copernicus-climate.eu/cache-compute-0004/cache/data6/adaptor.mars.internal-1618099140.9400423-23461-19-b155d2de-b233-4921-b559-a6e3daca7e83.grib to //mnt/DataDrive2/data/mjolly/era5-land/era5-land-surface_solar_radiation_downwards-2019-10.grib (5.2G)\n",
      "2021-04-10 18:25:00,426 INFO Download rate 3.6M/s      \n",
      "2021-04-10 18:25:01,201 INFO Welcome to the CDS\n",
      "2021-04-10 18:25:01,201 INFO Sending request to https://cds.climate.copernicus.eu/api/v2/resources/reanalysis-era5-land\n"
     ]
    },
    {
     "name": "stdout",
     "output_type": "stream",
     "text": [
      "=========================================================\n",
      "Downloading 2019-11\n"
     ]
    },
    {
     "name": "stderr",
     "output_type": "stream",
     "text": [
      "2021-04-10 18:25:01,430 INFO Request is queued\n",
      "2021-04-10 18:25:02,584 INFO Request is running\n",
      "2021-04-10 18:26:17,751 INFO Request is completed\n",
      "2021-04-10 18:26:17,752 INFO Downloading https://download-0002.copernicus-climate.eu/cache-compute-0002/cache/data4/adaptor.mars.internal-1618100701.9194446-20557-29-035b756f-2f69-4a2b-85f2-dc7d9afe209b.grib to //mnt/DataDrive2/data/mjolly/era5-land/era5-land-surface_solar_radiation_downwards-2019-11.grib (5G)\n",
      "2021-04-10 18:46:51,656 INFO Download rate 4.1M/s      \n",
      "2021-04-10 18:46:52,400 INFO Welcome to the CDS\n",
      "2021-04-10 18:46:52,401 INFO Sending request to https://cds.climate.copernicus.eu/api/v2/resources/reanalysis-era5-land\n"
     ]
    },
    {
     "name": "stdout",
     "output_type": "stream",
     "text": [
      "=========================================================\n",
      "Downloading 2019-12\n"
     ]
    },
    {
     "name": "stderr",
     "output_type": "stream",
     "text": [
      "2021-04-10 18:46:52,664 INFO Request is queued\n",
      "2021-04-10 18:46:53,816 INFO Request is running\n",
      "2021-04-10 18:48:08,948 INFO Request is completed\n",
      "2021-04-10 18:48:08,949 INFO Downloading https://download-0005.copernicus-climate.eu/cache-compute-0005/cache/data2/adaptor.mars.internal-1618102012.7092574-26660-17-0bc2d2bb-a384-43b8-bef5-e282e4cc9e0f.grib to //mnt/DataDrive2/data/mjolly/era5-land/era5-land-surface_solar_radiation_downwards-2019-12.grib (5.2G)\n",
      "2021-04-10 19:09:33,658 INFO Download rate 4.1M/s      \n",
      "2021-04-10 19:09:34,409 INFO Welcome to the CDS\n",
      "2021-04-10 19:09:34,409 INFO Sending request to https://cds.climate.copernicus.eu/api/v2/resources/reanalysis-era5-land\n"
     ]
    },
    {
     "name": "stdout",
     "output_type": "stream",
     "text": [
      "=========================================================\n",
      "Downloading 2020-01\n"
     ]
    },
    {
     "name": "stderr",
     "output_type": "stream",
     "text": [
      "2021-04-10 19:09:34,586 INFO Request is queued\n",
      "2021-04-10 19:09:35,738 INFO Request is running\n",
      "2021-04-10 19:11:29,533 INFO Request is completed\n",
      "2021-04-10 19:11:29,534 INFO Downloading https://download-0000.copernicus-climate.eu/cache-compute-0000/cache/data6/adaptor.mars.internal-1618103374.649562-12642-29-51cb7700-ec65-42e4-b5a4-76c43d120c1a.grib to //mnt/DataDrive2/data/mjolly/era5-land/era5-land-surface_solar_radiation_downwards-2020-01.grib (5.2G)\n",
      "2021-04-10 19:40:19,059 INFO Download rate 3.1M/s      \n",
      "2021-04-10 19:40:19,827 INFO Welcome to the CDS\n",
      "2021-04-10 19:40:19,828 INFO Sending request to https://cds.climate.copernicus.eu/api/v2/resources/reanalysis-era5-land\n"
     ]
    },
    {
     "name": "stdout",
     "output_type": "stream",
     "text": [
      "=========================================================\n",
      "Downloading 2020-02\n"
     ]
    },
    {
     "name": "stderr",
     "output_type": "stream",
     "text": [
      "2021-04-10 19:40:19,994 INFO Request is queued\n",
      "2021-04-10 19:40:21,145 INFO Request is running\n",
      "2021-04-10 19:41:36,309 INFO Request is completed\n",
      "2021-04-10 19:41:36,310 INFO Downloading https://download-0009.copernicus-climate.eu/cache-compute-0009/cache/data3/adaptor.mars.internal-1618105220.3463883-17307-13-acc4fc69-b66a-45d7-8260-dfbf599d3199.grib to //mnt/DataDrive2/data/mjolly/era5-land/era5-land-surface_solar_radiation_downwards-2020-02.grib (4.8G)\n",
      "2021-04-10 20:30:06,496 INFO Download rate 1.7M/s      \n",
      "2021-04-10 20:30:07,305 INFO Welcome to the CDS\n",
      "2021-04-10 20:30:07,305 INFO Sending request to https://cds.climate.copernicus.eu/api/v2/resources/reanalysis-era5-land\n"
     ]
    },
    {
     "name": "stdout",
     "output_type": "stream",
     "text": [
      "=========================================================\n",
      "Downloading 2020-03\n"
     ]
    },
    {
     "name": "stderr",
     "output_type": "stream",
     "text": [
      "2021-04-10 20:30:07,480 INFO Request is queued\n",
      "2021-04-10 20:30:08,632 INFO Request is running\n",
      "2021-04-10 20:32:02,429 INFO Request is completed\n",
      "2021-04-10 20:32:02,430 INFO Downloading https://download-0007.copernicus-climate.eu/cache-compute-0007/cache/data7/adaptor.mars.internal-1618108207.6316466-11306-33-0adb930b-36de-492d-8688-34f6b95a2f7a.grib to //mnt/DataDrive2/data/mjolly/era5-land/era5-land-surface_solar_radiation_downwards-2020-03.grib (5.2G)\n",
      "2021-04-10 21:01:02,456 INFO Download rate 3M/s        \n",
      "2021-04-10 21:01:03,204 INFO Welcome to the CDS\n",
      "2021-04-10 21:01:03,205 INFO Sending request to https://cds.climate.copernicus.eu/api/v2/resources/reanalysis-era5-land\n"
     ]
    },
    {
     "name": "stdout",
     "output_type": "stream",
     "text": [
      "=========================================================\n",
      "Downloading 2020-04\n"
     ]
    },
    {
     "name": "stderr",
     "output_type": "stream",
     "text": [
      "2021-04-10 21:01:03,369 INFO Request is queued\n",
      "2021-04-10 21:01:17,324 INFO Request is running\n",
      "2021-04-10 21:02:58,318 INFO Request is completed\n",
      "2021-04-10 21:02:58,319 INFO Downloading https://download-0006.copernicus-climate.eu/cache-compute-0006/cache/data8/adaptor.mars.internal-1618110073.1316981-27676-15-0aed6aa0-aeae-4443-92ab-330e753d6b01.grib to //mnt/DataDrive2/data/mjolly/era5-land/era5-land-surface_solar_radiation_downwards-2020-04.grib (5G)\n",
      "2021-04-10 21:21:31,084 INFO Download rate 4.6M/s      \n",
      "2021-04-10 21:21:31,855 INFO Welcome to the CDS\n",
      "2021-04-10 21:21:31,855 INFO Sending request to https://cds.climate.copernicus.eu/api/v2/resources/reanalysis-era5-land\n"
     ]
    },
    {
     "name": "stdout",
     "output_type": "stream",
     "text": [
      "=========================================================\n",
      "Downloading 2020-05\n"
     ]
    },
    {
     "name": "stderr",
     "output_type": "stream",
     "text": [
      "2021-04-10 21:21:32,087 INFO Request is queued\n",
      "2021-04-10 21:21:37,292 INFO Request is running\n",
      "2021-04-10 21:22:48,407 INFO Request is completed\n",
      "2021-04-10 21:22:48,408 INFO Downloading https://download-0014.copernicus-climate.eu/cache-compute-0014/cache/data5/adaptor.mars.internal-1618111295.0407944-18146-13-9b871f6d-c993-496a-9fe5-0369ddd0249b.grib to //mnt/DataDrive2/data/mjolly/era5-land/era5-land-surface_solar_radiation_downwards-2020-05.grib (5.2G)\n",
      "2021-04-10 21:44:48,790 INFO Download rate 4M/s        \n",
      "2021-04-10 21:44:49,535 INFO Welcome to the CDS\n",
      "2021-04-10 21:44:49,536 INFO Sending request to https://cds.climate.copernicus.eu/api/v2/resources/reanalysis-era5-land\n"
     ]
    },
    {
     "name": "stdout",
     "output_type": "stream",
     "text": [
      "=========================================================\n",
      "Downloading 2020-06\n"
     ]
    },
    {
     "name": "stderr",
     "output_type": "stream",
     "text": [
      "2021-04-10 21:44:49,744 INFO Request is queued\n",
      "2021-04-10 21:44:50,895 INFO Request is running\n",
      "2021-04-10 21:45:22,999 INFO Request is completed\n",
      "2021-04-10 21:45:23,000 INFO Downloading https://download-0009.copernicus-climate.eu/cache-compute-0009/cache/data1/adaptor.mars.internal-1618112689.8067455-26704-15-35771c8c-afdf-4f7f-926e-c2dc9477ecde.grib to //mnt/DataDrive2/data/mjolly/era5-land/era5-land-surface_solar_radiation_downwards-2020-06.grib (5G)\n",
      "2021-04-10 22:06:36,471 INFO Download rate 4M/s        \n",
      "2021-04-10 22:06:37,227 INFO Welcome to the CDS\n",
      "2021-04-10 22:06:37,227 INFO Sending request to https://cds.climate.copernicus.eu/api/v2/resources/reanalysis-era5-land\n"
     ]
    },
    {
     "name": "stdout",
     "output_type": "stream",
     "text": [
      "=========================================================\n",
      "Downloading 2020-07\n"
     ]
    },
    {
     "name": "stderr",
     "output_type": "stream",
     "text": [
      "2021-04-10 22:06:37,448 INFO Request is queued\n",
      "2021-04-10 22:06:38,601 INFO Request is running\n",
      "2021-04-10 22:08:32,353 INFO Request is completed\n",
      "2021-04-10 22:08:32,354 INFO Downloading https://download-0003.copernicus-climate.eu/cache-compute-0003/cache/data3/adaptor.mars.internal-1618113997.5816488-29598-9-27c58783-e786-4e56-a38f-1591be0ececa.grib to //mnt/DataDrive2/data/mjolly/era5-land/era5-land-surface_solar_radiation_downwards-2020-07.grib (5.2G)\n",
      "2021-04-10 22:28:18,976 INFO Download rate 4.5M/s      \n",
      "2021-04-10 22:28:19,728 INFO Welcome to the CDS\n",
      "2021-04-10 22:28:19,728 INFO Sending request to https://cds.climate.copernicus.eu/api/v2/resources/reanalysis-era5-land\n"
     ]
    },
    {
     "name": "stdout",
     "output_type": "stream",
     "text": [
      "=========================================================\n",
      "Downloading 2020-08\n"
     ]
    },
    {
     "name": "stderr",
     "output_type": "stream",
     "text": [
      "2021-04-10 22:28:19,907 INFO Request is queued\n",
      "2021-04-10 22:28:21,060 INFO Request is running\n",
      "2021-04-10 22:28:53,170 INFO Request is completed\n",
      "2021-04-10 22:28:53,171 INFO Downloading https://download-0004.copernicus-climate.eu/cache-compute-0004/cache/data0/adaptor.mars.internal-1618115300.3362591-5759-37-0d8f3e5b-56e0-45f3-8c45-340d90bb762b.grib to //mnt/DataDrive2/data/mjolly/era5-land/era5-land-surface_solar_radiation_downwards-2020-08.grib (5.2G)\n",
      "2021-04-10 22:49:17,415 INFO Download rate 4.3M/s      \n",
      "2021-04-10 22:49:18,175 INFO Welcome to the CDS\n",
      "2021-04-10 22:49:18,176 INFO Sending request to https://cds.climate.copernicus.eu/api/v2/resources/reanalysis-era5-land\n"
     ]
    },
    {
     "name": "stdout",
     "output_type": "stream",
     "text": [
      "=========================================================\n",
      "Downloading 2020-09\n"
     ]
    },
    {
     "name": "stderr",
     "output_type": "stream",
     "text": [
      "2021-04-10 22:49:18,391 INFO Request is queued\n",
      "2021-04-10 22:49:19,542 INFO Request is running\n",
      "2021-04-10 22:50:08,908 INFO Request is completed\n",
      "2021-04-10 22:50:08,909 INFO Downloading https://download-0014.copernicus-climate.eu/cache-compute-0014/cache/data9/adaptor.mars.internal-1618116558.5813909-930-25-2231e6e8-30c2-45a2-932e-86fa2a258d60.grib to //mnt/DataDrive2/data/mjolly/era5-land/era5-land-surface_solar_radiation_downwards-2020-09.grib (5G)\n",
      "2021-04-10 23:06:20,462 INFO Download rate 5.3M/s      \n",
      "2021-04-10 23:06:21,206 INFO Welcome to the CDS\n",
      "2021-04-10 23:06:21,207 INFO Sending request to https://cds.climate.copernicus.eu/api/v2/resources/reanalysis-era5-land\n"
     ]
    },
    {
     "name": "stdout",
     "output_type": "stream",
     "text": [
      "=========================================================\n",
      "Downloading 2020-10\n"
     ]
    },
    {
     "name": "stderr",
     "output_type": "stream",
     "text": [
      "2021-04-10 23:06:21,375 INFO Request is queued\n",
      "2021-04-10 23:06:22,526 INFO Request is running\n",
      "2021-04-10 23:06:54,627 INFO Request is completed\n",
      "2021-04-10 23:06:54,628 INFO Downloading https://download-0002.copernicus-climate.eu/cache-compute-0002/cache/data8/adaptor.mars.internal-1618117581.5757346-8764-19-337c2751-4f3e-444b-a620-bfa529528c4f.grib to //mnt/DataDrive2/data/mjolly/era5-land/era5-land-surface_solar_radiation_downwards-2020-10.grib (5.2G)\n",
      "2021-04-10 23:24:06,638 INFO Download rate 5.1M/s      \n",
      "2021-04-10 23:24:07,432 INFO Welcome to the CDS\n",
      "2021-04-10 23:24:07,432 INFO Sending request to https://cds.climate.copernicus.eu/api/v2/resources/reanalysis-era5-land\n"
     ]
    },
    {
     "name": "stdout",
     "output_type": "stream",
     "text": [
      "=========================================================\n",
      "Downloading 2020-11\n"
     ]
    },
    {
     "name": "stderr",
     "output_type": "stream",
     "text": [
      "2021-04-10 23:24:07,631 INFO Request is queued\n",
      "2021-04-10 23:24:08,783 INFO Request is running\n",
      "2021-04-10 23:24:40,893 INFO Request is completed\n",
      "2021-04-10 23:24:40,894 INFO Downloading https://download-0001.copernicus-climate.eu/cache-compute-0001/cache/data5/adaptor.mars.internal-1618118647.8403764-27266-30-25b39c48-241d-48f4-a184-38050bebab75.grib to //mnt/DataDrive2/data/mjolly/era5-land/era5-land-surface_solar_radiation_downwards-2020-11.grib (5G)\n",
      "2021-04-10 23:43:03,540 INFO Download rate 4.6M/s      \n",
      "2021-04-10 23:43:04,317 INFO Welcome to the CDS\n",
      "2021-04-10 23:43:04,317 INFO Sending request to https://cds.climate.copernicus.eu/api/v2/resources/reanalysis-era5-land\n"
     ]
    },
    {
     "name": "stdout",
     "output_type": "stream",
     "text": [
      "=========================================================\n",
      "Downloading 2020-12\n"
     ]
    },
    {
     "name": "stderr",
     "output_type": "stream",
     "text": [
      "2021-04-10 23:43:04,498 INFO Request is queued\n",
      "2021-04-10 23:43:05,651 INFO Request is running\n",
      "2021-04-10 23:43:37,754 INFO Request is completed\n",
      "2021-04-10 23:43:37,754 INFO Downloading https://download-0014.copernicus-climate.eu/cache-compute-0014/cache/data7/adaptor.mars.internal-1618119784.592779-2647-19-786ef1fe-8023-4aff-b2c2-b67deab11082.grib to //mnt/DataDrive2/data/mjolly/era5-land/era5-land-surface_solar_radiation_downwards-2020-12.grib (5.2G)\n",
      "2021-04-11 00:03:27,129 INFO Download rate 4.4M/s      \n"
     ]
    }
   ],
   "source": [
    "#!/usr/bin/env python3\n",
    "import cdsapi\n",
    " \n",
    "c = cdsapi.Client()\n",
    " \n",
    "first_year = 2015\n",
    "last_year = 2020\n",
    "#vars = ['10m_u_component_of_wind', '10m_v_component_of_wind', '2m_dewpoint_temperature','2m_temperature', 'snow_depth_water_equivalent', 'total_precipitation',]\n",
    "vars = ['surface_solar_radiation_downwards',]\n",
    "for year in range(first_year, last_year + 1):\n",
    "    for month in range(1, 13):\n",
    "        for v in vars:\n",
    "            print(\"=========================================================\")\n",
    "            print(\"Downloading {year}-{month:02d}\".format(year=year, month=month))\n",
    "            c.retrieve(\n",
    "                'reanalysis-era5-land',\n",
    "                {\n",
    "                    'product_type': 'reanalysis',\n",
    "                    'variable': v,\n",
    "                    'year': str(year),\n",
    "                    'month': \"{month:02d}\".format(month=month),\n",
    "                    'day': [\n",
    "                        '01', '02', '03',\n",
    "                        '04', '05', '06',\n",
    "                        '07', '08', '09',\n",
    "                        '10', '11', '12',\n",
    "                        '13', '14', '15',\n",
    "                        '16', '17', '18',\n",
    "                        '19', '20', '21',\n",
    "                        '22', '23', '24',\n",
    "                        '25', '26', '27',\n",
    "                        '28', '29', '30',\n",
    "                        '31',\n",
    "                    ],\n",
    "                    'time': [\n",
    "                        '00:00', '01:00', '02:00',\n",
    "                        '03:00', '04:00', '05:00',\n",
    "                        '06:00', '07:00', '08:00',\n",
    "                        '09:00', '10:00', '11:00',\n",
    "                        '12:00', '13:00', '14:00',\n",
    "                        '15:00', '16:00', '17:00',\n",
    "                        '18:00', '19:00', '20:00',\n",
    "                        '21:00', '22:00', '23:00',\n",
    "                    ],\n",
    "                    'format': 'grib2',\n",
    "                },\n",
    "                \"//mnt/DataDrive2/data/mjolly/era5-land/era5-land-{var}-{year}-{month:02d}.grib\".format(var=v,year=year, month=month))"
   ]
  },
  {
   "cell_type": "code",
   "execution_count": null,
   "metadata": {},
   "outputs": [],
   "source": [
    "import cdsapi\n",
    "\n",
    "c = cdsapi.Client()\n",
    "\n",
    "c.retrieve(\n",
    "    'reanalysis-era5-land',\n",
    "    {\n",
    "        'format': 'netcdf',\n",
    "        'variable': [\n",
    "            '10m_u_component_of_wind', '10m_v_component_of_wind', '2m_dewpoint_temperature',\n",
    "            '2m_temperature', 'snow_depth_water_equivalent', 'total_precipitation',\n",
    "        ],\n",
    "        'year': '2018',\n",
    "        'month': [\n",
    "            '07', \n",
    "        ],\n",
    "        'day': [\n",
    "            '01', '02', '03',\n",
    "            '04', '05', '06',\n",
    "            '07', '08', '09',\n",
    "            '10', '11', '12',\n",
    "            '13', '14', '15',\n",
    "            '16', '17', '18',\n",
    "            '19', '20', '21',\n",
    "            '22', '23', '24',\n",
    "            '25', '26', '27',\n",
    "            '28', '29', '30',\n",
    "            '31',\n",
    "        ],\n",
    "        'time': [\n",
    "            '00:00', '01:00', '02:00',\n",
    "            '03:00', '04:00', '05:00',\n",
    "            '06:00', '07:00', '08:00',\n",
    "            '09:00', '10:00', '11:00',\n",
    "            '12:00', '13:00', '14:00',\n",
    "            '15:00', '16:00', '17:00',\n",
    "            '18:00', '19:00', '20:00',\n",
    "            '21:00', '22:00', '23:00',\n",
    "        ],\n",
    "    },\n",
    "    'download.nc')"
   ]
  },
  {
   "cell_type": "code",
   "execution_count": null,
   "metadata": {},
   "outputs": [],
   "source": [
    "import eccodes\n",
    "ds = xr.open_dataset('download.grib')"
   ]
  },
  {
   "cell_type": "code",
   "execution_count": null,
   "metadata": {},
   "outputs": [],
   "source": [
    "import xarray as xr"
   ]
  },
  {
   "cell_type": "code",
   "execution_count": null,
   "metadata": {},
   "outputs": [],
   "source": [
    "from dask.distributed import Client\n",
    "\n",
    "client = Client(cluster)\n",
    "#client = Client(n_workers=32)\n",
    "client"
   ]
  },
  {
   "cell_type": "code",
   "execution_count": null,
   "metadata": {},
   "outputs": [],
   "source": [
    "print(client)"
   ]
  },
  {
   "cell_type": "code",
   "execution_count": null,
   "metadata": {},
   "outputs": [],
   "source": [
    "def eqmc(fTemp, fRH):\n",
    "    #fTemp: Temperature in Deg F\n",
    "    # fRH: Relative Humidity in %\n",
    "    if(fRH > 50):\n",
    "        return ( 21.0606 + 0.005565 * fRH**2 - 0.00035 * fRH * fTemp - 0.483199 * fRH)\n",
    "    if ((fRH > 10) and (fRH <= 50)):\n",
    "        return (2.22749 + 0.160107 * fRH - 0.014784 * fTemp)\n",
    "    return (0.03229 + 0.281073 * fRH - 0.000578 * fRH * fTemp)"
   ]
  },
  {
   "cell_type": "code",
   "execution_count": null,
   "metadata": {},
   "outputs": [],
   "source": [
    "# Compute one hour and ten hour fuel moisture contents\n",
    "def calc_rh_gufunc(x, y,length=0):\n",
    "    x = np.sqrt(x**2 + y)\n",
    "    y = np.exp(1.81 + (y * 17.27 - 4717.31) / (y - 35.86))\n",
    "    return ((y/x) * 100)\n",
    "\n",
    "def oneten_gufunc (iTemp, iRH):\n",
    "    if np.isnan(iTemp) or np.isnan(iRH):\n",
    "        return -999.9\n",
    "    iTemp = (iTemp - 273.15) * 9/5 + 32\n",
    "    emc = eqmc(iTemp, iRH)\n",
    "    MC1 = 1.03 * emc\n",
    "    \n",
    "    return MC1\n",
    "\n",
    "def calc_fm1(temp, rh):\n",
    "    return xr.apply_ufunc(\n",
    "        oneten_gufunc,\n",
    "        temp,\n",
    "        rh,\n",
    "        dask=\"parallelized\",\n",
    "        vectorize=True, # !Important!\n",
    "        output_dtypes=[temp.dtype]\n",
    "    )"
   ]
  },
  {
   "cell_type": "code",
   "execution_count": null,
   "metadata": {},
   "outputs": [],
   "source": [
    "import xarray as xr\n",
    "y = 2019\n",
    "m = 8\n",
    "#aoi_lat, aoi_lon = GetBounds(states_gdf)\n",
    "basedir = '/home/matt.jolly/era/era5_land_conus_2m_ws_2019_1.nc'\n",
    "conus_ws = xr.open_dataset(basedir)\n",
    "\n",
    "basedir = '/home/matt.jolly/era/era5_land_conus_2m_temperature_2019_8.nc'\n",
    "conus_t2m = xr.open_dataset(basedir)\n",
    "\n",
    "basedir = '/home/matt.jolly/era/era5_land_conus_2m_rh_2019_8.nc'\n",
    "conus_rh = xr.open_dataset(basedir)"
   ]
  },
  {
   "cell_type": "code",
   "execution_count": null,
   "metadata": {},
   "outputs": [],
   "source": [
    "conus_t2m.time"
   ]
  },
  {
   "cell_type": "code",
   "execution_count": null,
   "metadata": {},
   "outputs": [],
   "source": [
    "fm1 = calc_fm1(conus_t2m.t2m,conus_rh.rh)"
   ]
  },
  {
   "cell_type": "code",
   "execution_count": null,
   "metadata": {},
   "outputs": [],
   "source": [
    "fm1 = fm1.where(fm1 > -999)\n",
    "fm1[0].plot()"
   ]
  },
  {
   "cell_type": "code",
   "execution_count": null,
   "metadata": {},
   "outputs": [],
   "source": [
    "t = fm1.sel(latitude=45,longitude=-114,method='nearest')\n"
   ]
  },
  {
   "cell_type": "markdown",
   "metadata": {},
   "source": [
    "Next steps:\n",
    "    Need to summarize hourly to daily and write out a daily NetCDF file"
   ]
  },
  {
   "cell_type": "code",
   "execution_count": null,
   "metadata": {},
   "outputs": [],
   "source": [
    "t.plot()"
   ]
  },
  {
   "cell_type": "code",
   "execution_count": null,
   "metadata": {},
   "outputs": [],
   "source": []
  }
 ],
 "metadata": {
  "kernelspec": {
   "display_name": "Python 3",
   "language": "python",
   "name": "python3"
  },
  "language_info": {
   "codemirror_mode": {
    "name": "ipython",
    "version": 3
   },
   "file_extension": ".py",
   "mimetype": "text/x-python",
   "name": "python",
   "nbconvert_exporter": "python",
   "pygments_lexer": "ipython3",
   "version": "3.9.2"
  }
 },
 "nbformat": 4,
 "nbformat_minor": 4
}
