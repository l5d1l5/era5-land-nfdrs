{
 "cells": [
  {
   "cell_type": "code",
   "execution_count": null,
   "id": "1ff3a93d",
   "metadata": {},
   "outputs": [],
   "source": [
    "import os\n",
    "\n",
    "directory = \n",
    "for filename in os.listdir(directory):\n",
    "    if filename.endswith(\".asm\") or filename.endswith(\".py\"): \n",
    "         # print(os.path.join(directory, filename))\n",
    "        continue\n",
    "    else:\n",
    "        continue\n"
   ]
  }
 ],
 "metadata": {
  "kernelspec": {
   "display_name": "Python 3",
   "language": "python",
   "name": "python3"
  },
  "language_info": {
   "codemirror_mode": {
    "name": "ipython",
    "version": 3
   },
   "file_extension": ".py",
   "mimetype": "text/x-python",
   "name": "python",
   "nbconvert_exporter": "python",
   "pygments_lexer": "ipython3",
   "version": "3.9.2"
  }
 },
 "nbformat": 4,
 "nbformat_minor": 5
}
